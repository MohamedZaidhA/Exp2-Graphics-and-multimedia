{
  "nbformat": 4,
  "nbformat_minor": 0,
  "metadata": {
    "colab": {
      "provenance": [],
      "authorship_tag": "ABX9TyNOu/p6eKwda4KJVPMXxTPG",
      "include_colab_link": true
    },
    "kernelspec": {
      "name": "python3",
      "display_name": "Python 3"
    },
    "language_info": {
      "name": "python"
    }
  },
  "cells": [
    {
      "cell_type": "markdown",
      "metadata": {
        "id": "view-in-github",
        "colab_type": "text"
      },
      "source": [
        "<a href=\"https://colab.research.google.com/github/MohamedZaidhA/Exp2-Graphics-and-multimedia/blob/main/ColorFill.ipynb\" target=\"_parent\"><img src=\"https://colab.research.google.com/assets/colab-badge.svg\" alt=\"Open In Colab\"/></a>"
      ]
    },
    {
      "cell_type": "code",
      "execution_count": null,
      "metadata": {
        "colab": {
          "base_uri": "https://localhost:8080/",
          "height": 435
        },
        "id": "09ygErAtrCgq",
        "outputId": "1deb5577-8718-4c89-eab8-7ce2b09ae7ac"
      },
      "outputs": [
        {
          "output_type": "display_data",
          "data": {
            "text/plain": [
              "<Figure size 640x480 with 1 Axes>"
            ],
            "image/png": "[encoded data removed]"
          },
          "metadata": {}
        }
      ],
      "source": [
        "import matplotlib.pyplot as plt\n",
        "import numpy as np\n",
        "from collections import deque\n",
        "\n",
        "width, height=300,300\n",
        "canvas=np.ones((height, width,3),dtype=np.uint8)*255\n",
        "\n",
        "def draw_polygon(vertices):\n",
        "  for i in range(len(vertices)):\n",
        "    x1,y1=vertices[i]\n",
        "    x2,y2=vertices[(i+1)%len(vertices)]\n",
        "    bresenham_line(x1,y1,x2,y2)\n",
        "\n",
        "def bresenham_line(x1,y1,x2,y2):\n",
        "  dx=abs(x2-x1)\n",
        "  dy=abs(y2-y1)\n",
        "  x, y=x1, y1\n",
        "  sx=1 if x2>x1 else -1\n",
        "  sy=1 if y2>y1 else -1\n",
        "  if dx>dy:\n",
        "    err=dx/2\n",
        "    while x!=x2:\n",
        "      canvas[y,x]=[0,0,0]\n",
        "      err-=dy\n",
        "      if err<0:\n",
        "        y+=sy\n",
        "        err+=dx\n",
        "      x+=sx\n",
        "    canvas[y,x]=[0,0,0]\n",
        "  else:\n",
        "    err=dy/2\n",
        "    while y!=y2:\n",
        "      canvas[y,x]=[0,0,0]\n",
        "      err-=dx\n",
        "      if err<0:\n",
        "        x+=sx\n",
        "        err+=dy\n",
        "      y+=sy\n",
        "    canvas[y,x]=[0,0,0]\n",
        "\n",
        "def flood_fill(x,y,target_color,fill_color):\n",
        "  if x<0 or x>=width or y<0 or y>=height:\n",
        "    return\n",
        "  if not np.array_equal(canvas[y,x],target_color):\n",
        "    return\n",
        "  canvas[y,x]=fill_color\n",
        "  flood_fill(x+1,y,target_color,fill_color)\n",
        "  flood_fill(x-1,y,target_color,fill_color)\n",
        "  flood_fill(x,y+1,target_color,fill_color)\n",
        "  flood_fill(x,y-1,target_color,fill_color)\n",
        "\n",
        "def flood_fill_iter(x,y,target_color,fill_color):\n",
        "  target=np.array(target_color,dtype=np.uint8)\n",
        "  fill=np.array(fill_color)\n",
        "  if x<0 or x>=width or y<0 or y>=height:\n",
        "    return\n",
        "  if not np.array_equal(canvas[y,x],target):\n",
        "    return\n",
        "  q=deque([(x,y)])\n",
        "  while q:\n",
        "    cx,cy=q.popleft()\n",
        "    if cx<0 or cx>=width or cy<0 or cy>=height:\n",
        "      continue\n",
        "    if np.array_equal(canvas[cy,cx],target):\n",
        "      canvas[cy,cx]=fill_color\n",
        "      q.append((cx+1,cy))\n",
        "      q.append((cx-1,cy))\n",
        "      q.append((cx,cy+1))\n",
        "      q.append((cx,cy-1))\n",
        "\n",
        "\n",
        "vertices=[(50,50),(250,50),(200,200),(100,250),(50,150)]\n",
        "draw_polygon(vertices)\n",
        "flood_fill_iter(150,100,[255,255,255],[255,0,0])\n",
        "plt.imshow(canvas)\n",
        "plt.show()"
      ]
    }
  ]
}